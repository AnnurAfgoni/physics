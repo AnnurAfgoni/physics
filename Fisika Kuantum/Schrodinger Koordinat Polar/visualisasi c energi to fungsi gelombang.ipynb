{
 "cells": [
  {
   "cell_type": "markdown",
   "id": "b45894bb",
   "metadata": {},
   "source": [
    "$$\\frac{\\partial \\Psi}{\\partial \\tau}=\\frac{1}{2}\\left [ \\frac{1}{r}\\frac{\\partial \\Psi}{\\partial r}+\n",
    "\\frac{\\partial^2 \\Psi}{\\partial r^2}+\\frac{1}{r^2}\\frac{\\partial^2 \\Psi}{\\partial \\theta^2} \\right ]$$"
   ]
  },
  {
   "cell_type": "code",
   "execution_count": 1,
   "id": "3017bc01",
   "metadata": {},
   "outputs": [],
   "source": [
    "import numpy as np\n",
    "import pandas as pd\n",
    "import math\n",
    "import matplotlib.pyplot as plt\n",
    "\n",
    "from matplotlib import cm"
   ]
  },
  {
   "cell_type": "code",
   "execution_count": 2,
   "id": "bbbab088",
   "metadata": {},
   "outputs": [],
   "source": [
    "NR = 50\n",
    "NA = 50\n",
    "\n",
    "R = 1\n",
    "dr = R/NR\n",
    "\n",
    "pi = 2*math.asin(1.0)\n",
    "\n",
    "# da = 2.0*np.pi/NA\n",
    "da = 2.0*pi/NA\n",
    "\n",
    "r = np.arange(NR+1)*dr"
   ]
  },
  {
   "cell_type": "code",
   "execution_count": 3,
   "id": "5ae31243",
   "metadata": {},
   "outputs": [],
   "source": [
    "psi_c = pd.read_csv(\"results_5050_36500.csv\", header=None)\n",
    "psi = psi_c.to_numpy()"
   ]
  },
  {
   "cell_type": "markdown",
   "id": "945a8386",
   "metadata": {},
   "source": [
    "# Energi -> Cara 1"
   ]
  },
  {
   "cell_type": "code",
   "execution_count": 4,
   "id": "dcee90ff",
   "metadata": {},
   "outputs": [
    {
     "name": "stdout",
     "output_type": "stream",
     "text": [
      "2.4067720800369528\n"
     ]
    }
   ],
   "source": [
    "# Menghitung energi\n",
    "\n",
    "pembilang = 0.0\n",
    "penyebut = 0.0\n",
    "\n",
    "for i in range(1, NR):\n",
    "    for j in range(1, NA):\n",
    "        pembilang += psi[i,j]*psi[i,j]\n",
    "        \n",
    "        d2psi = -0.5*(psi[i+1, j] - psi[i-1, j])/(r[i]*2*dr)\n",
    "        d2psi += -0.5*(psi[i-1, j] - 2*psi[i, j] + psi[i+1, j])/(dr*dr)\n",
    "        d2psi += -0.5*(psi[i, j-1] - 2*psi[i, j] + psi[i, j+1])/(da*da*r[i]*r[i])\n",
    "        \n",
    "        penyebut += psi[i,j]*d2psi\n",
    "        \n",
    "penyebut *= dr*da\n",
    "pembilang *= dr*da\n",
    "\n",
    "energi = penyebut/pembilang\n",
    "print(energi)"
   ]
  },
  {
   "cell_type": "code",
   "execution_count": 5,
   "id": "0b11e2fe",
   "metadata": {},
   "outputs": [],
   "source": [
    "# Normalisasi\n",
    "\n",
    "#coef = np.sqrt(1.0/pembilang)\n",
    "#for i in range(1, NR):\n",
    "#    for j in range(1, NA):\n",
    "#        psi[i, j] = coef*psi[i,j]"
   ]
  },
  {
   "cell_type": "code",
   "execution_count": 7,
   "id": "44dcdf39",
   "metadata": {},
   "outputs": [
    {
     "data": {
      "image/png": "[encoded data removed]",
      "text/plain": [
       "<Figure size 432x288 with 2 Axes>"
      ]
     },
     "metadata": {
      "needs_background": "light"
     },
     "output_type": "display_data"
    }
   ],
   "source": [
    "theta = np.linspace(0, 2*pi, NA+1)\n",
    "X, Y = np.meshgrid(r, theta, sparse =False, indexing = 'ij')\n",
    "a, b = X*np.cos(Y), X*np.sin(Y)\n",
    "\n",
    "#plot hasil\n",
    "plt.contourf(a, b, psi, cmap = cm.coolwarm)\n",
    "plt.xlabel('x')\n",
    "plt.ylabel('y')\n",
    "plt.colorbar()\n",
    "plt.gca().set_aspect('equal')\n",
    "plt.show()"
   ]
  },
  {
   "cell_type": "code",
   "execution_count": null,
   "id": "36e19238",
   "metadata": {},
   "outputs": [],
   "source": []
  },
  {
   "cell_type": "markdown",
   "id": "335dd50e",
   "metadata": {},
   "source": [
    "# "
   ]
  }
 ],
 "metadata": {
  "kernelspec": {
   "display_name": "Python 3 (ipykernel)",
   "language": "python",
   "name": "python3"
  },
  "language_info": {
   "codemirror_mode": {
    "name": "ipython",
    "version": 3
   },
   "file_extension": ".py",
   "mimetype": "text/x-python",
   "name": "python",
   "nbconvert_exporter": "python",
   "pygments_lexer": "ipython3",
   "version": "3.9.7"
  }
 },
 "nbformat": 4,
 "nbformat_minor": 5
}
