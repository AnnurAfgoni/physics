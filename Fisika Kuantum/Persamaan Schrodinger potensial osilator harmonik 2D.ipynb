{
 "cells": [
  {
   "cell_type": "markdown",
   "metadata": {},
   "source": [
    "# Metode FDTD untuk Persamaan Schrodinger 2D\n",
    "\n",
    "Persamaan Schrodinger pada waktu imajiner, gunakan satuan $\\hbar = m = 1 $, untuk sebuah partikel pada potensial kotak 2D, $x \\in [0,1], y \\in [0, 1]$ yaitu\n",
    "$$ \\frac{\\partial \\psi}{\\partial \\tau} = \\frac{1}{2}\\left[\\frac{\\partial^2 \\psi}{\\partial x^2} + \\frac{\\partial^2 \\psi}{\\partial y^2}\\right] + V(x) \\psi$$\n",
    "\n",
    "Setelah menggunakan metode numerik, kita dapatkan persamaan eksplisit $\\Delta x = \\Delta y$\n",
    "$$ \\psi^{n+1}_{i,j} = \\alpha_{i,j} \\psi^n_{i,j} + \\beta_{i,j} \\left[\\frac{\\Delta \\tau}{2(\\Delta x)^2}[\\psi^n_{i-1,j} - 2\\psi^n_{i,j} + \\psi^n_{i+1,j}] + \\frac{\\Delta \\tau}{2(\\Delta y)^2}[\\psi^n_{i,j-1} - 2\\psi^n_{i,j} + \\psi^n_{i,j+1}] \\right] $$\n",
    "\n",
    "$$ \\psi^{n+1}_{i,j} = \\alpha_{i,j} \\psi^n_{i,j} + \\beta_{i,j} \\frac{\\Delta \\tau}{2(\\Delta x)^2}\\left[[\\psi^n_{i-1,j} - 2\\psi^n_{i,j} + \\psi^n_{i+1,j} + \\psi^n_{i,j-1} - 2\\psi^n_{i,j} + \\psi^n_{i,j+1}] \\right] $$\n",
    "\n",
    "$$ \\psi^{n+1}_{i,j} = \\alpha_{i,j} \\psi^n_{i,j} + \\beta_{i,j} \\frac{\\Delta \\tau}{2(\\Delta x)^2}\\left[[\\psi^n_{i-1,j} + \\psi^n_{i+1,j} + \\psi^n_{i,j-1} + \\psi^n_{i,j+1} - 4\\psi^n_{i,j} \\right] $$\n",
    "\n",
    "$$ \\alpha_i = \\frac{1 - \\Delta t V_i/2}{1 + \\Delta t V_i/2} $$\n",
    "$$ \\beta_i = \\frac{1}{1 + \\Delta t V_i/2} $$\n"
   ]
  },
  {
   "cell_type": "code",
   "execution_count": 1,
   "metadata": {},
   "outputs": [],
   "source": [
    "%matplotlib inline\n",
    "import numpy as np\n",
    "import matplotlib.pyplot as plt\n",
    "import random as rnd\n",
    "from matplotlib import cm "
   ]
  },
  {
   "cell_type": "code",
   "execution_count": 2,
   "metadata": {},
   "outputs": [],
   "source": [
    "NX = 50\n",
    "NY = 50\n",
    "LX = 5.0\n",
    "LY = 5.0\n",
    "dx = LX/NX\n",
    "dt = 0.5*(dx**2/2)\n",
    "x = np.arange(NX+1)*dx\n",
    "y = np.arange(NY+1)*dx\n",
    "\n",
    "cc = dt/(2*dx**2)\n",
    "psi = np.zeros((NX+1, NY+1))\n",
    "psinew = np.zeros((NX+1, NY+1))\n",
    "v = np.zeros((NX+1, NY+1))\n",
    "# alpha_i\n",
    "ca = np.zeros((NX+1, NY+1))\n",
    "# beta_i\n",
    "cb = np.zeros((NX+1, NY+1))"
   ]
  },
  {
   "cell_type": "code",
   "execution_count": 3,
   "metadata": {},
   "outputs": [],
   "source": [
    "# psi awal, gunakan bilangan random\n",
    "for i in range(1,NX):\n",
    "    for j in range(1,NY):\n",
    "        psi[i,j] = rnd.random()\n",
    "\n",
    "# syarat batas psi = 0 di keliling daerah\n",
    "# dengan cara tidak di update, tetap nol\n",
    "\n",
    "# V[i,j] potensial 2D\n",
    "# harmonik v = (1/2)k(x^2 + y^2) = (1/2) [m omega^2] (x^2 + y^2)\n",
    "# gunakan satuan m = 1 satuan\n",
    "# omega = 1 satuan\n",
    "# satuan energi dalam hbar omega\n",
    "x0 = LX/2\n",
    "y0 = LY/2\n",
    "for i in range(0,NX+1):\n",
    "    for j in range(0,NY+1):\n",
    "        v[i,j] = 0.5*(x[i] - x0)**2 + 0.5*(y[j] - y0)**2\n",
    "\n",
    "# koefisien alpha dan beta\n",
    "for i in range(1,NX):\n",
    "    for j in range(1,NY):\n",
    "        ca[i,j] = (1 - 0.5*dt*v[i,j])/(1 + 0.5*dt*v[i,j])\n",
    "        cb[i,j] = 1.0/(1 + 0.5*dt*v[i,j])"
   ]
  },
  {
   "cell_type": "code",
   "execution_count": 4,
   "metadata": {
    "scrolled": true
   },
   "outputs": [
    {
     "data": {
      "image/png": "[encoded data removed]",
      "text/plain": [
       "<Figure size 432x288 with 1 Axes>"
      ]
     },
     "metadata": {
      "needs_background": "light"
     },
     "output_type": "display_data"
    }
   ],
   "source": [
    "# Plot potensial\n",
    "plt.plot(x,v[:,NY//2],'-r')\n",
    "plt.xlabel('x')\n",
    "plt.ylabel('V(x,LY/2)')\n",
    "plt.show()"
   ]
  },
  {
   "cell_type": "code",
   "execution_count": 5,
   "metadata": {},
   "outputs": [],
   "source": [
    "# lakukan 5000 iterasi\n",
    "for n in range(5000):\n",
    "    # hitung psi_new[i]\n",
    "    for i in range(1,NX):\n",
    "        for j in range(1,NY):\n",
    "            temp = psi[i-1, j] + psi[i+1, j] + psi[i,j-1] + psi[i,j+1] - 4*psi[i,j]\n",
    "            psinew[i,j] = ca[i,j]*psi[i,j] + cb[i,j]*cc*temp\n",
    "    \n",
    "    # simpan untuk iterasi berikutnya\n",
    "    for i in range(1,NX):\n",
    "        for j in range(1,NY):\n",
    "            psi[i,j] = psinew[i,j]\n",
    "            "
   ]
  },
  {
   "cell_type": "code",
   "execution_count": 6,
   "metadata": {},
   "outputs": [],
   "source": [
    "# Normalisasi\n",
    "temp = 0    \n",
    "for i in range(1, NX):\n",
    "    for j in range(1, NY):\n",
    "        temp += psi[i,j]**2\n",
    "temp2 = np.sqrt(dx*dx*temp)\n",
    "\n",
    "for i in range(1, NX):\n",
    "    for j in range(1, NY):\n",
    "        psi[i,j] = psi[i,j]/temp2"
   ]
  },
  {
   "cell_type": "code",
   "execution_count": 7,
   "metadata": {
    "scrolled": true
   },
   "outputs": [
    {
     "data": {
      "image/png": "[encoded data removed]",
      "text/plain": [
       "<Figure size 432x288 with 2 Axes>"
      ]
     },
     "metadata": {
      "needs_background": "light"
     },
     "output_type": "display_data"
    }
   ],
   "source": [
    "X, Y = np.meshgrid(x-x0, y-y0, sparse =False, indexing = 'ij')\n",
    "\n",
    "#plot hasil\n",
    "plt.contourf(X, Y, psi**2, cmap = cm.coolwarm)\n",
    "plt.xlabel('x')\n",
    "plt.ylabel('y')\n",
    "plt.colorbar()\n",
    "plt.gca().set_aspect('equal')\n",
    "plt.show()"
   ]
  },
  {
   "cell_type": "code",
   "execution_count": 8,
   "metadata": {},
   "outputs": [
    {
     "name": "stdout",
     "output_type": "stream",
     "text": [
      "1.009320121015624\n"
     ]
    }
   ],
   "source": [
    "# hitung energi untuk harmonik (eksak) E = 1.0\n",
    "energi = 0\n",
    "for i in range(1, NX):\n",
    "    for j in range(1, NY):\n",
    "        d2psi = -0.5*(psi[i-1,j] - 2*psi[i,j] + psi[i+1,j])/(dx**2)\n",
    "        d2psi += -0.5*(psi[i, j-1] - 2*psi[i,j] + psi[i,j+1])/(dx**2)\n",
    "        energi += psi[i,j]*d2psi + v[i,j]*psi[i,j]**2\n",
    "energi *= dx*dx\n",
    "print(energi)"
   ]
  }
 ],
 "metadata": {
  "kernelspec": {
   "display_name": "Python 3",
   "language": "python",
   "name": "python3"
  },
  "language_info": {
   "codemirror_mode": {
    "name": "ipython",
    "version": 3
   },
   "file_extension": ".py",
   "mimetype": "text/x-python",
   "name": "python",
   "nbconvert_exporter": "python",
   "pygments_lexer": "ipython3",
   "version": "3.8.5"
  }
 },
 "nbformat": 4,
 "nbformat_minor": 4
}
