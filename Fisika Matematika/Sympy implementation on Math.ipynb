{
 "cells": [
  {
   "cell_type": "markdown",
   "id": "31957182",
   "metadata": {},
   "source": [
    "gunakan `init_printing()` untuk mengaktifkan beautiful printingdengan LaTeX"
   ]
  },
  {
   "cell_type": "code",
   "execution_count": 1,
   "id": "2cb795ff",
   "metadata": {},
   "outputs": [],
   "source": [
    "# import semua dari sympy\n",
    "from sympy import *\n",
    "\n",
    "init_printing()"
   ]
  },
  {
   "cell_type": "markdown",
   "id": "4992d416",
   "metadata": {},
   "source": [
    "Mendefinisikan variabel atau simbol $x$ dll, supaya dikenal oleh python."
   ]
  },
  {
   "cell_type": "code",
   "execution_count": 2,
   "id": "442eb087",
   "metadata": {},
   "outputs": [],
   "source": [
    "# variabel x, y, dan k, n\n",
    "x = symbols('x')\n",
    "y = symbols('y')\n",
    "\n",
    "k = symbols('k')\n",
    "n = symbols('n')"
   ]
  },
  {
   "cell_type": "markdown",
   "id": "6d7e1324",
   "metadata": {},
   "source": [
    "# Konstanta Penting"
   ]
  },
  {
   "cell_type": "code",
   "execution_count": 3,
   "id": "c25dbcd9",
   "metadata": {},
   "outputs": [
    {
     "data": {
      "image/png": "[encoded data removed]",
      "text/latex": [
       "$\\displaystyle \\pi$"
      ],
      "text/plain": [
       "π"
      ]
     },
     "execution_count": 3,
     "metadata": {},
     "output_type": "execute_result"
    }
   ],
   "source": [
    "# bilangan pi, eksak\n",
    "pi"
   ]
  },
  {
   "cell_type": "code",
   "execution_count": 4,
   "id": "00f79cfa",
   "metadata": {},
   "outputs": [
    {
     "data": {
      "image/png": "[encoded data removed]",
      "text/latex": [
       "$\\displaystyle 3.1415926535897932384626433832795028841971693993751$"
      ],
      "text/plain": [
       "3.1415926535897932384626433832795028841971693993751"
      ]
     },
     "execution_count": 4,
     "metadata": {},
     "output_type": "execute_result"
    }
   ],
   "source": [
    "# Nilai numerik 50 digit\n",
    "pi.n(50)"
   ]
  },
  {
   "cell_type": "code",
   "execution_count": 5,
   "id": "55d8e614",
   "metadata": {},
   "outputs": [
    {
     "data": {
      "image/png": "[encoded data removed]",
      "text/latex": [
       "$\\displaystyle e$"
      ],
      "text/plain": [
       "ℯ"
      ]
     },
     "execution_count": 5,
     "metadata": {},
     "output_type": "execute_result"
    }
   ],
   "source": [
    "# bilangan e = exp(1)\n",
    "E"
   ]
  },
  {
   "cell_type": "code",
   "execution_count": 6,
   "id": "e0ffde83",
   "metadata": {},
   "outputs": [
    {
     "data": {
      "image/png": "[encoded data removed]",
      "text/latex": [
       "$\\displaystyle 2.718281828$"
      ],
      "text/plain": [
       "2.718281828"
      ]
     },
     "execution_count": 6,
     "metadata": {},
     "output_type": "execute_result"
    }
   ],
   "source": [
    "E.n(10)"
   ]
  },
  {
   "cell_type": "code",
   "execution_count": 7,
   "id": "5dc5c261",
   "metadata": {},
   "outputs": [
    {
     "data": {
      "image/png": "[encoded data removed]",
      "text/latex": [
       "$\\displaystyle \\infty$"
      ],
      "text/plain": [
       "∞"
      ]
     },
     "execution_count": 7,
     "metadata": {},
     "output_type": "execute_result"
    }
   ],
   "source": [
    "#tak hingga dengan oo\n",
    "oo"
   ]
  },
  {
   "cell_type": "code",
   "execution_count": 8,
   "id": "105f8767",
   "metadata": {},
   "outputs": [
    {
     "data": {
      "image/png": "[encoded data removed]",
      "text/latex": [
       "$\\displaystyle i$"
      ],
      "text/plain": [
       "ⅈ"
      ]
     },
     "execution_count": 8,
     "metadata": {},
     "output_type": "execute_result"
    }
   ],
   "source": [
    "# bilangan imajiner i\n",
    "I"
   ]
  },
  {
   "cell_type": "markdown",
   "id": "f5d62d8a",
   "metadata": {},
   "source": [
    "# Subtitusi"
   ]
  },
  {
   "cell_type": "code",
   "execution_count": 9,
   "id": "5791bfa9",
   "metadata": {},
   "outputs": [
    {
     "data": {
      "image/png": "[encoded data removed]",
      "text/latex": [
       "$\\displaystyle x^{2} + 2 x + 3$"
      ],
      "text/plain": [
       " 2          \n",
       "x  + 2⋅x + 3"
      ]
     },
     "execution_count": 9,
     "metadata": {},
     "output_type": "execute_result"
    }
   ],
   "source": [
    "# contoh persamaan\n",
    "z = x**2 + 2*x + 3\n",
    "z"
   ]
  },
  {
   "cell_type": "code",
   "execution_count": 10,
   "id": "c1e3dee6",
   "metadata": {},
   "outputs": [
    {
     "data": {
      "image/png": "[encoded data removed]",
      "text/latex": [
       "$\\displaystyle 11.0$"
      ],
      "text/plain": [
       "11.0000000000000"
      ]
     },
     "execution_count": 10,
     "metadata": {},
     "output_type": "execute_result"
    }
   ],
   "source": [
    "# subtitusi x = 2.0\n",
    "z.subs(x, 2.0)"
   ]
  },
  {
   "cell_type": "markdown",
   "id": "bc8a8095",
   "metadata": {},
   "source": [
    "# Penjumlahan $\\sum$"
   ]
  },
  {
   "cell_type": "code",
   "execution_count": 11,
   "id": "11e1717c",
   "metadata": {},
   "outputs": [
    {
     "data": {
      "image/png": "[encoded data removed]",
      "text/latex": [
       "$\\displaystyle \\sum_{n=1}^{20} n^{2}$"
      ],
      "text/plain": [
       "  20    \n",
       " ___    \n",
       " ╲      \n",
       "  ╲    2\n",
       "  ╱   n \n",
       " ╱      \n",
       " ‾‾‾    \n",
       "n = 1   "
      ]
     },
     "execution_count": 11,
     "metadata": {},
     "output_type": "execute_result"
    }
   ],
   "source": [
    "s = Sum(n**2, (n, 1, 20))\n",
    "s"
   ]
  },
  {
   "cell_type": "code",
   "execution_count": 12,
   "id": "eaa9980e",
   "metadata": {},
   "outputs": [
    {
     "data": {
      "image/png": "[encoded data removed]",
      "text/latex": [
       "$\\displaystyle 2870.0$"
      ],
      "text/plain": [
       "2870.00000000000"
      ]
     },
     "execution_count": 12,
     "metadata": {},
     "output_type": "execute_result"
    }
   ],
   "source": [
    "# hitung hasil dengan evalf()\n",
    "s.evalf()"
   ]
  },
  {
   "cell_type": "code",
   "execution_count": 13,
   "id": "b6210514",
   "metadata": {},
   "outputs": [
    {
     "data": {
      "image/png": "[encoded data removed]",
      "text/latex": [
       "$\\displaystyle 2870.0$"
      ],
      "text/plain": [
       "2870.00000000000"
      ]
     },
     "execution_count": 13,
     "metadata": {},
     "output_type": "execute_result"
    }
   ],
   "source": [
    "# evaluasi dengan N()\n",
    "N(s)"
   ]
  },
  {
   "cell_type": "markdown",
   "id": "878350f9",
   "metadata": {},
   "source": [
    "# Limit"
   ]
  },
  {
   "cell_type": "markdown",
   "id": "6d5eabe1",
   "metadata": {},
   "source": [
    "$$\\lim_{x \\to 0}\\frac{\\sin(2x)}{x}$$"
   ]
  },
  {
   "cell_type": "code",
   "execution_count": 14,
   "id": "17d32df1",
   "metadata": {},
   "outputs": [
    {
     "data": {
      "image/png": "[encoded data removed]",
      "text/latex": [
       "$\\displaystyle 2$"
      ],
      "text/plain": [
       "2"
      ]
     },
     "execution_count": 14,
     "metadata": {},
     "output_type": "execute_result"
    }
   ],
   "source": [
    "limit(sin(2*x)/x, x, 0)"
   ]
  },
  {
   "cell_type": "markdown",
   "id": "728b4514",
   "metadata": {},
   "source": [
    "# Deret"
   ]
  },
  {
   "cell_type": "code",
   "execution_count": 15,
   "id": "82bf284c",
   "metadata": {},
   "outputs": [
    {
     "data": {
      "image/png": "[encoded data removed]",
      "text/latex": [
       "$\\displaystyle x - \\frac{x^{3}}{6} + \\frac{x^{5}}{120} + O\\left(x^{6}\\right)$"
      ],
      "text/plain": [
       "     3     5        \n",
       "    x     x     ⎛ 6⎞\n",
       "x - ── + ─── + O⎝x ⎠\n",
       "    6    120        "
      ]
     },
     "execution_count": 15,
     "metadata": {},
     "output_type": "execute_result"
    }
   ],
   "source": [
    "# deret MacLaurin untuk sin(x)\n",
    "\n",
    "p = series(sin(x), x)\n",
    "p"
   ]
  },
  {
   "cell_type": "code",
   "execution_count": 16,
   "id": "70119105",
   "metadata": {},
   "outputs": [
    {
     "data": {
      "image/png": "[encoded data removed]",
      "text/latex": [
       "$\\displaystyle \\frac{x^{5}}{120} - \\frac{x^{3}}{6} + x$"
      ],
      "text/plain": [
       "  5    3    \n",
       " x    x     \n",
       "─── - ── + x\n",
       "120   6     "
      ]
     },
     "execution_count": 16,
     "metadata": {},
     "output_type": "execute_result"
    }
   ],
   "source": [
    "# Hilangkan O(...)\n",
    "p2 = p.removeO()\n",
    "p2"
   ]
  },
  {
   "cell_type": "markdown",
   "id": "e20c4405",
   "metadata": {},
   "source": [
    "# Menyelesaikan Persamaan. Solve"
   ]
  },
  {
   "cell_type": "code",
   "execution_count": 17,
   "id": "fb70ee8e",
   "metadata": {},
   "outputs": [
    {
     "data": {
      "image/png": "[encoded data removed]",
      "text/latex": [
       "$\\displaystyle \\left[ \\frac{3}{2} - \\frac{\\sqrt{5}}{2}, \\  \\frac{\\sqrt{5}}{2} + \\frac{3}{2}\\right]$"
      ],
      "text/plain": [
       "⎡3   √5  √5   3⎤\n",
       "⎢─ - ──, ── + ─⎥\n",
       "⎣2   2   2    2⎦"
      ]
     },
     "execution_count": 17,
     "metadata": {},
     "output_type": "execute_result"
    }
   ],
   "source": [
    "# persamaan x^2 - 3x + 1 = 0\n",
    "solve(x**2 - 3*x + 1, x)"
   ]
  },
  {
   "cell_type": "markdown",
   "id": "77abfff4",
   "metadata": {},
   "source": [
    "# Kalkulus"
   ]
  },
  {
   "cell_type": "markdown",
   "id": "001807f3",
   "metadata": {},
   "source": [
    "## Turunan"
   ]
  },
  {
   "cell_type": "code",
   "execution_count": 18,
   "id": "76ce4f85",
   "metadata": {},
   "outputs": [
    {
     "data": {
      "image/png": "[encoded data removed]",
      "text/latex": [
       "$\\displaystyle k \\cos{\\left(k x \\right)}$"
      ],
      "text/plain": [
       "k⋅cos(k⋅x)"
      ]
     },
     "execution_count": 18,
     "metadata": {},
     "output_type": "execute_result"
    }
   ],
   "source": [
    "# Turunan Pertama\n",
    "g = diff(sin(k*x), x)\n",
    "g"
   ]
  },
  {
   "cell_type": "code",
   "execution_count": 19,
   "id": "55a3010c",
   "metadata": {},
   "outputs": [
    {
     "data": {
      "image/png": "[encoded data removed]",
      "text/latex": [
       "$\\displaystyle - k^{2} \\sin{\\left(k x \\right)}$"
      ],
      "text/plain": [
       "  2         \n",
       "-k ⋅sin(k⋅x)"
      ]
     },
     "execution_count": 19,
     "metadata": {},
     "output_type": "execute_result"
    }
   ],
   "source": [
    "# Turunan kedua\n",
    "g2 = diff(sin(k*x), x, x)\n",
    "\n",
    "# atau\n",
    "g2 = diff(sin(k*x), x, 2)\n",
    "\n",
    "g2"
   ]
  },
  {
   "cell_type": "code",
   "execution_count": 20,
   "id": "e5fd1e2b",
   "metadata": {},
   "outputs": [
    {
     "data": {
      "image/png": "[encoded data removed]",
      "text/latex": [
       "$\\displaystyle - x y \\sin{\\left(x y \\right)} + \\cos{\\left(x y \\right)}$"
      ],
      "text/plain": [
       "-x⋅y⋅sin(x⋅y) + cos(x⋅y)"
      ]
     },
     "execution_count": 20,
     "metadata": {},
     "output_type": "execute_result"
    }
   ],
   "source": [
    "# turunan d2f/dxdy\n",
    "\n",
    "g3 = diff(sin(x*y), x, y)\n",
    "g3"
   ]
  },
  {
   "cell_type": "markdown",
   "id": "a527d4b9",
   "metadata": {},
   "source": [
    "## Integral"
   ]
  },
  {
   "cell_type": "markdown",
   "id": "81d35dc4",
   "metadata": {},
   "source": [
    "$$\\int \\sin(x) dx$$"
   ]
  },
  {
   "cell_type": "code",
   "execution_count": 21,
   "id": "452a3e3b",
   "metadata": {},
   "outputs": [
    {
     "data": {
      "image/png": "[encoded data removed]",
      "text/latex": [
       "$\\displaystyle - \\cos{\\left(x \\right)}$"
      ],
      "text/plain": [
       "-cos(x)"
      ]
     },
     "execution_count": 21,
     "metadata": {},
     "output_type": "execute_result"
    }
   ],
   "source": [
    "s = integrate(sin(x), x)\n",
    "s"
   ]
  },
  {
   "cell_type": "markdown",
   "id": "e79cbc20",
   "metadata": {},
   "source": [
    "$$\\int e^x \\sin(x) dx$$"
   ]
  },
  {
   "cell_type": "code",
   "execution_count": 22,
   "id": "30083bdd",
   "metadata": {},
   "outputs": [
    {
     "data": {
      "image/png": "[encoded data removed]",
      "text/latex": [
       "$\\displaystyle \\frac{e^{x} \\sin{\\left(x \\right)}}{2} - \\frac{e^{x} \\cos{\\left(x \\right)}}{2}$"
      ],
      "text/plain": [
       " x           x       \n",
       "ℯ ⋅sin(x)   ℯ ⋅cos(x)\n",
       "───────── - ─────────\n",
       "    2           2    "
      ]
     },
     "execution_count": 22,
     "metadata": {},
     "output_type": "execute_result"
    }
   ],
   "source": [
    "s = integrate(exp(x)*sin(x), x)\n",
    "s"
   ]
  },
  {
   "cell_type": "markdown",
   "id": "855e0981",
   "metadata": {},
   "source": [
    "Hitung integral tentu"
   ]
  },
  {
   "cell_type": "markdown",
   "id": "406056a2",
   "metadata": {},
   "source": [
    "$$\\int_{0}^{2\\pi} \\sin(x) dx$$"
   ]
  },
  {
   "cell_type": "code",
   "execution_count": 23,
   "id": "37d39b06",
   "metadata": {},
   "outputs": [
    {
     "data": {
      "image/png": "[encoded data removed]",
      "text/latex": [
       "$\\displaystyle 0$"
      ],
      "text/plain": [
       "0"
      ]
     },
     "execution_count": 23,
     "metadata": {},
     "output_type": "execute_result"
    }
   ],
   "source": [
    "integrate(sin(x), (x, 0, 2*pi))"
   ]
  },
  {
   "cell_type": "markdown",
   "id": "6c02345e",
   "metadata": {},
   "source": [
    "$$\\int_{0}^{\\infty}\\exp(-x^2) dx$$"
   ]
  },
  {
   "cell_type": "code",
   "execution_count": 24,
   "id": "aad09186",
   "metadata": {},
   "outputs": [
    {
     "data": {
      "image/png": "[encoded data removed]",
      "text/latex": [
       "$\\displaystyle \\frac{\\sqrt{\\pi}}{2}$"
      ],
      "text/plain": [
       "√π\n",
       "──\n",
       "2 "
      ]
     },
     "execution_count": 24,
     "metadata": {},
     "output_type": "execute_result"
    }
   ],
   "source": [
    "integrate(exp(-x**2), (x, 0, oo))"
   ]
  },
  {
   "cell_type": "markdown",
   "id": "35a559ef",
   "metadata": {},
   "source": [
    "# Matriks"
   ]
  },
  {
   "cell_type": "code",
   "execution_count": 25,
   "id": "01ed3df5",
   "metadata": {},
   "outputs": [],
   "source": [
    "a, b, c, d = symbols(\"a b c d\")\n",
    "\n",
    "M = Matrix([[a,b], [c,d]])"
   ]
  },
  {
   "cell_type": "code",
   "execution_count": 26,
   "id": "40223c6a",
   "metadata": {},
   "outputs": [
    {
     "data": {
      "image/png": "[encoded data removed]",
      "text/latex": [
       "$\\displaystyle \\left[\\begin{matrix}a & b\\\\c & d\\end{matrix}\\right]$"
      ],
      "text/plain": [
       "⎡a  b⎤\n",
       "⎢    ⎥\n",
       "⎣c  d⎦"
      ]
     },
     "execution_count": 26,
     "metadata": {},
     "output_type": "execute_result"
    }
   ],
   "source": [
    "M"
   ]
  },
  {
   "cell_type": "code",
   "execution_count": 27,
   "id": "e77fc5d2",
   "metadata": {},
   "outputs": [
    {
     "data": {
      "image/png": "[encoded data removed]",
      "text/latex": [
       "$\\displaystyle a d - b c$"
      ],
      "text/plain": [
       "a⋅d - b⋅c"
      ]
     },
     "execution_count": 27,
     "metadata": {},
     "output_type": "execute_result"
    }
   ],
   "source": [
    "# determinan\n",
    "M.det()"
   ]
  },
  {
   "cell_type": "code",
   "execution_count": 28,
   "id": "b49acfa0",
   "metadata": {},
   "outputs": [
    {
     "data": {
      "image/png": "[encoded data removed]",
      "text/latex": [
       "$\\displaystyle \\left[\\begin{matrix}1\\\\2\\end{matrix}\\right]$"
      ],
      "text/plain": [
       "⎡1⎤\n",
       "⎢ ⎥\n",
       "⎣2⎦"
      ]
     },
     "execution_count": 28,
     "metadata": {},
     "output_type": "execute_result"
    }
   ],
   "source": [
    "# contoh vektor kolom\n",
    "v = Matrix([[1], [2]])\n",
    "v"
   ]
  },
  {
   "cell_type": "code",
   "execution_count": 29,
   "id": "5eac56cf",
   "metadata": {},
   "outputs": [
    {
     "data": {
      "image/png": "[encoded data removed]",
      "text/latex": [
       "$\\displaystyle \\left[\\begin{matrix}a + 2 b\\\\c + 2 d\\end{matrix}\\right]$"
      ],
      "text/plain": [
       "⎡a + 2⋅b⎤\n",
       "⎢       ⎥\n",
       "⎣c + 2⋅d⎦"
      ]
     },
     "execution_count": 29,
     "metadata": {},
     "output_type": "execute_result"
    }
   ],
   "source": [
    "# perkalian matriks\n",
    "M*v"
   ]
  },
  {
   "cell_type": "code",
   "execution_count": 30,
   "id": "d02b03c4",
   "metadata": {},
   "outputs": [
    {
     "data": {
      "image/png": "[encoded data removed]",
      "text/latex": [
       "$\\displaystyle \\left[\\begin{matrix}\\frac{d}{a d - b c} & - \\frac{b}{a d - b c}\\\\- \\frac{c}{a d - b c} & \\frac{a}{a d - b c}\\end{matrix}\\right]$"
      ],
      "text/plain": [
       "⎡    d         -b    ⎤\n",
       "⎢─────────  ─────────⎥\n",
       "⎢a⋅d - b⋅c  a⋅d - b⋅c⎥\n",
       "⎢                    ⎥\n",
       "⎢   -c          a    ⎥\n",
       "⎢─────────  ─────────⎥\n",
       "⎣a⋅d - b⋅c  a⋅d - b⋅c⎦"
      ]
     },
     "execution_count": 30,
     "metadata": {},
     "output_type": "execute_result"
    }
   ],
   "source": [
    "# invers\n",
    "M.inv()"
   ]
  },
  {
   "cell_type": "code",
   "execution_count": 31,
   "id": "a024cc97",
   "metadata": {},
   "outputs": [
    {
     "data": {
      "image/png": "[encoded data removed]",
      "text/latex": [
       "$\\displaystyle \\left[\\begin{matrix}5\\end{matrix}\\right]$"
      ],
      "text/plain": [
       "[5]"
      ]
     },
     "execution_count": 31,
     "metadata": {},
     "output_type": "execute_result"
    }
   ],
   "source": [
    "# transpose\n",
    "v.transpose()*v"
   ]
  },
  {
   "cell_type": "code",
   "execution_count": null,
   "id": "a108311b",
   "metadata": {},
   "outputs": [],
   "source": []
  }
 ],
 "metadata": {
  "kernelspec": {
   "display_name": "Python 3 (ipykernel)",
   "language": "python",
   "name": "python3"
  },
  "language_info": {
   "codemirror_mode": {
    "name": "ipython",
    "version": 3
   },
   "file_extension": ".py",
   "mimetype": "text/x-python",
   "name": "python",
   "nbconvert_exporter": "python",
   "pygments_lexer": "ipython3",
   "version": "3.9.7"
  }
 },
 "nbformat": 4,
 "nbformat_minor": 5
}
